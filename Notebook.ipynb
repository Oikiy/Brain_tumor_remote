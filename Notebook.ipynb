{
 "cells": [
  {
   "cell_type": "code",
   "execution_count": 7,
   "metadata": {},
   "outputs": [],
   "source": [
    "import seaborn as sns\n",
    "import numpy as np \n",
    "import pandas as pd \n",
    "import cv2\n",
    "import matplotlib.pyplot as plt \n",
    "import os\n",
    "from tensorflow.keras.preprocessing.image import ImageDataGenerator\n",
    "import tensorflow as tf\n",
    "import keras\n",
    "import pandas as pd\n",
    "import numpy as np\n",
    "import tensorflow as tf\n",
    "from tensorflow import keras\n",
    "from tensorflow.keras.models import Sequential\n",
    "from tensorflow.keras.layers import Dense,Conv2D\n",
    "from tensorflow.keras.optimizers import Adam \n",
    "# from kerastuner import RandomSearch\n",
    "import os\n",
    "import numpy as np\n",
    "# import torch\n",
    "import glob\n",
    "# import torch.nn as nn\n",
    "# from torchvision.transforms import transforms\n",
    "# from torch.utils.data import DataLoader\n",
    "# from torch.optim import Adam\n",
    "# from torch.autograd import Variable\n",
    "# import torchvision\n",
    "import pathlib\n",
    "import pandas as pd\n",
    "import numpy as np\n",
    "from skimage.io import imread\n",
    "import matplotlib.pyplot as plt\n",
    "%matplotlib inline\n",
    "from sklearn.model_selection import train_test_split\n",
    "from sklearn.metrics import accuracy_score\n",
    "from tqdm import tqdm\n",
    "# import torch\n",
    "# from torch.autograd import Variable\n",
    "# from torch.nn import Linear, ReLU, CrossEntropyLoss, Sequential, Conv2d, MaxPool2d, Module, Softmax, BatchNorm2d, Dropout\n",
    "# from torch.optim import Adam, SGD\n",
    "import warnings\n",
    "warnings.filterwarnings(\"ignore\")"
   ]
  },
  {
   "cell_type": "code",
   "execution_count": 10,
   "metadata": {},
   "outputs": [
    {
     "data": {
      "text/plain": [
       "['glioma_tumor', 'meningioma_tumor', 'no_tumor', 'pituitary_tumor']"
      ]
     },
     "execution_count": 10,
     "metadata": {},
     "output_type": "execute_result"
    }
   ],
   "source": [
    "train_img = []\n",
    "train_labels = []\n",
    "\n",
    "test_img = []\n",
    "test_labels = []\n",
    "\n",
    "path_train = (r'C:\\Users\\Kai Qi Yan\\OneDrive\\文档\\GitHub\\Brain_Tumor_Remote\\archive\\Training')\n",
    "path_test = (r'C:\\Users\\Kai Qi Yan\\OneDrive\\文档\\GitHub\\Brain_Tumor_Remote\\archive\\Testing')\n",
    "img_size= 300\n",
    "os.listdir(path_train)\n",
    "# for i in os.listdir(path_train):\n",
    "#     for j in os.listdir(path_train+i):\n",
    "#         train_img.append (cv2.resize(cv2.imread(path_train+i+'/'+j), (img_size,img_size))) \n",
    "#         train_labels.append(i)\n",
    "        \n",
    "# for i in os.listdir(path_test):\n",
    "#     for j in os.listdir(path_test+i):\n",
    "#         test_img.append (cv2.resize(cv2.imread(path_test+i+'/'+j), (img_size,img_size))) \n",
    "#         test_labels.append(i)\n",
    "        \n",
    "# train_img = (np.array(train_img))\n",
    "# test_img = (np.array(test_img))"
   ]
  }
 ],
 "metadata": {
  "kernelspec": {
   "display_name": "MLEnv",
   "language": "python",
   "name": "python3"
  },
  "language_info": {
   "codemirror_mode": {
    "name": "ipython",
    "version": 3
   },
   "file_extension": ".py",
   "mimetype": "text/x-python",
   "name": "python",
   "nbconvert_exporter": "python",
   "pygments_lexer": "ipython3",
   "version": "3.11.9"
  }
 },
 "nbformat": 4,
 "nbformat_minor": 2
}
